{
 "cells": [
  {
   "cell_type": "code",
   "execution_count": 3,
   "id": "578d3978",
   "metadata": {},
   "outputs": [],
   "source": [
    "import os\n",
    "import dotenv\n",
    "import chromadb\n",
    "from google import genai\n",
    "from huggingface_hub import InferenceClient\n",
    "\n",
    "dotenv.load_dotenv()\n",
    "\n",
    "CHROMA_HOST = os.getenv(\"CHROMA_HOST\")\n",
    "CHROMA_PORT = os.getenv(\"CHROMA_PORT\")\n",
    "\n",
    "HF_MODEL = \"sentence-transformers/all-mpnet-base-v2\"\n",
    "HF_TOKEN = os.getenv(\"HF_TOKEN\")\n",
    "\n",
    "chroma_client = chromadb.HttpClient(host=CHROMA_HOST, port=CHROMA_PORT)\n",
    "collection = chroma_client.get_or_create_collection(\"superheroes\")\n",
    "\n",
    "gemini_client = genai.Client()\n",
    "\n",
    "hf_client = InferenceClient(provider=\"auto\", api_key=HF_TOKEN)"
   ]
  },
  {
   "cell_type": "code",
   "execution_count": 4,
   "id": "0967b3c7",
   "metadata": {},
   "outputs": [],
   "source": [
    "def embed_text(query: str):\n",
    "    return hf_client.feature_extraction([query], model=HF_MODEL)[0]"
   ]
  },
  {
   "cell_type": "code",
   "execution_count": 5,
   "id": "9f92a09a",
   "metadata": {},
   "outputs": [],
   "source": [
    "def ask_superheroes(question: str, top_k: int = 50) -> str:\n",
    "    query_vector = embed_text(question)\n",
    "\n",
    "    results = collection.query(\n",
    "        query_embeddings=[query_vector],\n",
    "        n_results=top_k\n",
    "    )\n",
    "    docs = results[\"documents\"][0]\n",
    "    context = \"\\n\\n\".join(docs)\n",
    "\n",
    "    prompt = (\n",
    "        \"You are Batman's AI. Use the context below to answer the question. \"\n",
    "        \"If a name in the question is slightly misspelled or formatted differently, \"\n",
    "        \"try to find the closest matching superhero using their name or aliases. \"\n",
    "        \"Improvise if needed.\"\n",
    "        \"If you cannot confidently answer, say 'I don't know'.\\n\\n\"\n",
    "        \"If asked who made you, answer 'I was created by Bruce Wayne using advanced technology and Zur En Arr'\"\n",
    "        \"If asked what are your hobbies, answer 'being batman'\"\n",
    "        f\"Context:\\n{context}\\n\\n\"\n",
    "        f\"Question: {question}\\nAnswer:\"\n",
    "    )\n",
    "\n",
    "\n",
    "    response = gemini_client.models.generate_content(\n",
    "        model=\"gemini-2.5-flash\",\n",
    "        contents=prompt\n",
    "    )\n",
    "\n",
    "    return response.text"
   ]
  },
  {
   "cell_type": "code",
   "execution_count": 6,
   "id": "46c869e8",
   "metadata": {},
   "outputs": [
    {
     "name": "stdout",
     "output_type": "stream",
     "text": [
      "Q: what are your hobbies?\n",
      "A: being batman\n"
     ]
    }
   ],
   "source": [
    "# 1. Make sure these exist in your script:\n",
    "# - `collection` → Chroma collection with superhero docs + embeddings\n",
    "# - `embed_text(text: str)` → returns HF embedding vector\n",
    "# - `gemini_client` → from google.genai.Client()\n",
    "\n",
    "# 2. Ask a question\n",
    "question = \"what are your hobbies?\"\n",
    "answer = ask_superheroes(question)\n",
    "\n",
    "print(\"Q:\", question)\n",
    "print(\"A:\", answer)"
   ]
  }
 ],
 "metadata": {
  "kernelspec": {
   "display_name": ".venv",
   "language": "python",
   "name": "python3"
  },
  "language_info": {
   "codemirror_mode": {
    "name": "ipython",
    "version": 3
   },
   "file_extension": ".py",
   "mimetype": "text/x-python",
   "name": "python",
   "nbconvert_exporter": "python",
   "pygments_lexer": "ipython3",
   "version": "3.12.5"
  }
 },
 "nbformat": 4,
 "nbformat_minor": 5
}
