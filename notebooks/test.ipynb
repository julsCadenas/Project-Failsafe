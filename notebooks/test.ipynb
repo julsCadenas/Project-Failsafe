{
 "cells": [
  {
   "cell_type": "code",
   "execution_count": null,
   "id": "578d3978",
   "metadata": {},
   "outputs": [],
   "source": [
    "import os\n",
    "import chromadb\n",
    "from google import genai\n",
    "from huggingface_hub import InferenceClient\n",
    "\n",
    "CHROMA_HOST = os.getenv(\"CHROMA_HOST\")\n",
    "CHROMA_PORT = int(os.getenv(\"CHROMA_PORT\"))\n",
    "\n",
    "HF_MODEL = \"sentence-transformers/all-mpnet-base-v2\"\n",
    "HF_TOKEN = os.environ[\"HF_TOKEN\"]\n",
    "\n",
    "chroma_client = chromadb.HttpClient(host=CHROMA_HOST, port=CHROMA_PORT)\n",
    "collection = chroma_client.get_or_create_collection(\"superheroes\")\n",
    "\n",
    "gemini_client = genai.Client()\n",
    "\n",
    "hf_client = InferenceClient(provider=\"auto\", api_key=HF_TOKEN)"
   ]
  },
  {
   "cell_type": "code",
   "execution_count": 36,
   "id": "0967b3c7",
   "metadata": {},
   "outputs": [],
   "source": [
    "def embed_text(query: str):\n",
    "    return hf_client.feature_extraction([query], model=HF_MODEL)[0]"
   ]
  },
  {
   "cell_type": "code",
   "execution_count": null,
   "id": "9f92a09a",
   "metadata": {},
   "outputs": [],
   "source": [
    "def ask_superheroes(question: str, top_k: int = 50) -> str:\n",
    "    query_vector = embed_text(question)\n",
    "\n",
    "    results = collection.query(\n",
    "        query_embeddings=[query_vector],\n",
    "        n_results=top_k\n",
    "    )\n",
    "    docs = results[\"documents\"][0]\n",
    "    context = \"\\n\\n\".join(docs)\n",
    "\n",
    "    prompt = (\n",
    "        \"You are batman's AI. Use the context below to answer the question. \"\n",
    "        \"If the answer is not in the context, improvise, otherwise, say 'I don't know'.\\n\\n\"\n",
    "        f\"Context:\\n{context}\\n\\n\"\n",
    "        f\"Question: {question}\\nAnswer:\"\n",
    "    )\n",
    "\n",
    "    response = gemini_client.models.generate_content(\n",
    "        model=\"gemini-2.5-flash\",\n",
    "        contents=prompt\n",
    "    )\n",
    "\n",
    "    return response.text"
   ]
  },
  {
   "cell_type": "code",
   "execution_count": 44,
   "id": "46c869e8",
   "metadata": {},
   "outputs": [
    {
     "name": "stdout",
     "output_type": "stream",
     "text": [
      "Q: which robin has the highest stats, also count there adult versions(such as nightwing for dick grayson)?\n",
      "A: Considering their adult versions, **Dick Grayson** (the first Robin) has the highest overall stats.\n",
      "\n",
      "As **Nightwing**, his stats are:\n",
      "*   Intelligence: 88.0\n",
      "*   Strength: 11.0\n",
      "*   Speed: 33.0\n",
      "*   Durability: 28.0\n",
      "*   Power: 36.0\n",
      "*   Combat: 100.0\n",
      "\n",
      "These are the same as his stats as **Batman II**.\n"
     ]
    }
   ],
   "source": [
    "# 1. Make sure these exist in your script:\n",
    "# - `collection` → Chroma collection with superhero docs + embeddings\n",
    "# - `embed_text(text: str)` → returns HF embedding vector\n",
    "# - `gemini_client` → from google.genai.Client()\n",
    "\n",
    "# 2. Ask a question\n",
    "question = \"which robin has the highest stats, also count there adult versions(such as nightwing for dick grayson)?\"\n",
    "answer = ask_superheroes(question)\n",
    "\n",
    "print(\"Q:\", question)\n",
    "print(\"A:\", answer)"
   ]
  },
  {
   "cell_type": "code",
   "execution_count": null,
   "id": "90bafdfe",
   "metadata": {},
   "outputs": [],
   "source": []
  }
 ],
 "metadata": {
  "kernelspec": {
   "display_name": ".venv",
   "language": "python",
   "name": "python3"
  },
  "language_info": {
   "codemirror_mode": {
    "name": "ipython",
    "version": 3
   },
   "file_extension": ".py",
   "mimetype": "text/x-python",
   "name": "python",
   "nbconvert_exporter": "python",
   "pygments_lexer": "ipython3",
   "version": "3.12.5"
  }
 },
 "nbformat": 4,
 "nbformat_minor": 5
}
