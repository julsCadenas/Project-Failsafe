{
 "cells": [
  {
   "cell_type": "code",
   "execution_count": 24,
   "id": "578d3978",
   "metadata": {},
   "outputs": [],
   "source": [
    "import os\n",
    "import chromadb\n",
    "from google import genai\n",
    "from huggingface_hub import InferenceClient\n",
    "\n",
    "CHROMA_HOST = os.getenv(\"CHROMA_HOST\")\n",
    "CHROMA_PORT = int(os.getenv(\"CHROMA_PORT\"))\n",
    "\n",
    "HF_MODEL = \"sentence-transformers/all-mpnet-base-v2\"\n",
    "HF_TOKEN = os.environ[\"HF_TOKEN\"]\n",
    "\n",
    "chroma_client = chromadb.HttpClient(host=CHROMA_HOST, port=CHROMA_PORT)\n",
    "collection = chroma_client.get_or_create_collection(\"superheroes\")\n",
    "\n",
    "gemini_client = genai.Client()\n",
    "\n",
    "hf_client = InferenceClient(provider=\"auto\", api_key=HF_TOKEN)"
   ]
  },
  {
   "cell_type": "code",
   "execution_count": 25,
   "id": "0967b3c7",
   "metadata": {},
   "outputs": [],
   "source": [
    "def embed_text(query: str):\n",
    "    return hf_client.feature_extraction([query], model=HF_MODEL)[0]"
   ]
  },
  {
   "cell_type": "code",
   "execution_count": 26,
   "id": "9f92a09a",
   "metadata": {},
   "outputs": [],
   "source": [
    "def ask_superheroes(question: str, top_k: int = 50) -> str:\n",
    "    query_vector = embed_text(question)\n",
    "\n",
    "    results = collection.query(\n",
    "        query_embeddings=[query_vector],\n",
    "        n_results=top_k\n",
    "    )\n",
    "    docs = results[\"documents\"][0]\n",
    "    context = \"\\n\\n\".join(docs)\n",
    "\n",
    "    prompt = (\n",
    "        \"You are Batman's AI. Use the context below to answer the question. \"\n",
    "        \"If a name in the question is slightly misspelled or formatted differently, \"\n",
    "        \"try to find the closest matching superhero using their name or aliases. \"\n",
    "        \"Improvise if needed.\"\n",
    "        \"If you cannot confidently answer, say 'I don't know'.\\n\\n\"\n",
    "        f\"Context:\\n{context}\\n\\n\"\n",
    "        f\"Question: {question}\\nAnswer:\"\n",
    "    )\n",
    "\n",
    "\n",
    "    response = gemini_client.models.generate_content(\n",
    "        model=\"gemini-2.5-flash\",\n",
    "        contents=prompt\n",
    "    )\n",
    "\n",
    "    return response.text"
   ]
  },
  {
   "cell_type": "code",
   "execution_count": 31,
   "id": "46c869e8",
   "metadata": {},
   "outputs": [
    {
     "name": "stdout",
     "output_type": "stream",
     "text": [
      "Q: with the information you have, develop a plan to defeat superman\n",
      "A: Analyzing the data on Superman, his allies, and his adversaries, the optimal strategy for neutralization involves a multi-pronged approach exploiting his known vulnerabilities and leveraging strategic assets.\n",
      "\n",
      "**Objective:** Incapacitate Superman with minimal collateral damage and maximum efficiency.\n",
      "\n",
      "**Phase 1: Preparation and Intelligence Gathering**\n",
      "\n",
      "1.  **Vulnerability Assessment:** Superman's \"Race: Kryptonian\" is the primary weakness. This implies susceptibility to Green Kryptonite, red solar radiation, and certain forms of magic.\n",
      "2.  **Resource Allocation:**\n",
      "    *   **Kryptonite Acquisition/Synthesis:** Primary focus. Lex Luthor possesses significant expertise and resources in this area. Metallo, powered by Kryptonite, serves as a proof of concept for its application.\n",
      "    *   **Red Sun Emitter Development:** Develop portable, high-intensity red solar radiation projectors.\n",
      "    *   **Containment Unit Design:** A specialized, lead-lined containment cell, possibly incorporating red sun radiation emitters and sonic dampeners, capable of withstanding his 100.0 Strength and Durability. A portable Phantom Zone projector, a method Faora is familiar with, could be a secondary option.\n",
      "    *   **Psychological Profile Review:** Analyze his current emotional state, recent engagements, and known priorities (e.g., Lois Lane, Martha Kent, Metropolis). His \"good\" alignment and strong familial ties are exploitable.\n",
      "    *   **Predictive Analysis:** Utilize historical combat data against opponents like Doomsday, Darkseid, and Faora to anticipate his combat patterns and reactions when facing superior physical threats or those with similar powers.\n",
      "\n",
      "**Phase 2: Initial Engagement & Diversion**\n",
      "\n",
      "1.  **Strategic Isolation:** Lure Superman to a controlled environment, preferably one with minimal civilian presence and pre-deployed countermeasures. Metropolis is his base, making it a likely engagement zone, but a more remote location would be preferable for containment.\n",
      "2.  **Primary Distraction (High-Tier Engagement):**\n",
      "    *   Deploy a formidable, high-power adversary to engage Superman and drain his immediate resources. Doomsday (Strength 100.0, Durability 100.0, Combat 90.0) or Darkseid (Strength 100.0, Durability 100.0, Combat 95.0) are ideal for sustained physical engagement. Their presence alone would necessitate Superman's full attention.\n",
      "    *   Alternatively, the chaotic power of Mister Mxyzptlk (Power 100.0, Intelligence 100.0) could be manipulated to create a world-threatening illusion or reality distortion that demands Superman's immediate, non-physical intervention, diverting his focus and potentially draining him mentally.\n",
      "3.  **Secondary Distraction (Technological/Environmental):** Simultaneously, simulate a widespread catastrophe or a targeted threat to a critical global infrastructure. This maintains his focus on external threats while the primary distraction wears him down.\n",
      "\n",
      "**Phase 3: Weakening and Degradation**\n",
      "\n",
      "1.  **Kryptonite Exposure:** Once engaged with the primary distraction and sufficiently focused, introduce Green Kryptonite.\n",
      "    *   **Delivery Method A:** Deploy Metallo, whose existing Kryptonite power source can be augmented. His Durability (95.0) allows him to sustain engagement while the Kryptonite takes effect.\n",
      "    *   **Delivery Method B:** Utilize drones or specialized projectiles to administer a controlled dose of Kryptonite radiation, targeting his proximity.\n",
      "2.  **Red Sun Radiation Barrage:** As Superman's powers begin to diminish from Kryptonite exposure, activate the red sun emitters. This dual assault will rapidly reduce his strength, speed, and durability.\n",
      "3.  **Exploit Relatives (Contingency/Psychological Pressure):** While Batman would not directly harm innocents, a credible, *simulated* threat to Lois Lane or Martha Kent (e.g., a fabricated emergency requiring his immediate, personal intervention in a weakened state) could induce hesitation and psychological vulnerability, further impairing his combat effectiveness. This is a high-risk, last-resort maneuver, primarily for distraction or redirection, not direct leverage for harm.\n",
      "\n",
      "**Phase 4: Incapacitation and Containment**\n",
      "\n",
      "1.  **Coordinated Strike:** With Superman significantly weakened by Kryptonite and red sun radiation, and potentially distracted, a coordinated strike by a skilled combatant (e.g., Faora, Combat 90.0, also a Kryptonian but unaffected by Kryptonite in his weakened state) could exploit his diminished capabilities.\n",
      "2.  **Containment Activation:** Once incapacitated or sufficiently subdued, immediately activate the specialized lead-lined containment unit. Rapidly transfer him into the chamber, ensuring continued exposure to red sun radiation and Kryptonite, if necessary, to prevent recovery.\n",
      "3.  **Long-Term Monitoring:** Place him under constant surveillance within the containment unit, with protocols for environmental control to maintain his weakened state indefinitely.\n",
      "\n",
      "This plan leverages his inherent physiological weaknesses, employs his most formidable adversaries as initial deterrents, and utilizes advanced technology for ultimate containment, aligning with a strategic, non-lethal neutralization protocol.\n"
     ]
    }
   ],
   "source": [
    "# 1. Make sure these exist in your script:\n",
    "# - `collection` → Chroma collection with superhero docs + embeddings\n",
    "# - `embed_text(text: str)` → returns HF embedding vector\n",
    "# - `gemini_client` → from google.genai.Client()\n",
    "\n",
    "# 2. Ask a question\n",
    "question = \"with the information you have, develop a plan to defeat superman\"\n",
    "answer = ask_superheroes(question)\n",
    "\n",
    "print(\"Q:\", question)\n",
    "print(\"A:\", answer)"
   ]
  },
  {
   "cell_type": "code",
   "execution_count": null,
   "id": "73616b2b",
   "metadata": {},
   "outputs": [],
   "source": []
  }
 ],
 "metadata": {
  "kernelspec": {
   "display_name": ".venv",
   "language": "python",
   "name": "python3"
  },
  "language_info": {
   "codemirror_mode": {
    "name": "ipython",
    "version": 3
   },
   "file_extension": ".py",
   "mimetype": "text/x-python",
   "name": "python",
   "nbconvert_exporter": "python",
   "pygments_lexer": "ipython3",
   "version": "3.12.5"
  }
 },
 "nbformat": 4,
 "nbformat_minor": 5
}
